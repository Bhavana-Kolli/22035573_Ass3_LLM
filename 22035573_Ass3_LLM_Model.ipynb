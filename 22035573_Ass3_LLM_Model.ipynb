{
  "nbformat": 4,
  "nbformat_minor": 0,
  "metadata": {
    "colab": {
      "provenance": [],
      "machine_shape": "hm",
      "gpuType": "A100",
      "authorship_tag": "ABX9TyMR/ojyCFaOMeaJ/Fk4so6C",
      "include_colab_link": true
    },
    "kernelspec": {
      "name": "python3",
      "display_name": "Python 3"
    },
    "language_info": {
      "name": "python"
    },
    "accelerator": "GPU"
  },
  "cells": [
    {
      "cell_type": "markdown",
      "metadata": {
        "id": "view-in-github",
        "colab_type": "text"
      },
      "source": [
        "<a href=\"https://colab.research.google.com/github/Bhavana-Kolli/22035573_Ass3_LLM/blob/main/22035573_Ass3_LLM_Model.ipynb\" target=\"_parent\"><img src=\"https://colab.research.google.com/assets/colab-badge.svg\" alt=\"Open In Colab\"/></a>"
      ]
    },
    {
      "cell_type": "markdown",
      "source": [
        "# **Importing Libraries**"
      ],
      "metadata": {
        "id": "r17z0o7BGhYy"
      }
    },
    {
      "cell_type": "code",
      "source": [
        "# install transformers\n",
        "!pip install transformers datasets torch seqeval\n",
        "\n",
        "# import clear out to clear output during library installation\n",
        "from IPython.display import clear_output\n",
        "clear_output()"
      ],
      "metadata": {
        "id": "LSN7DOwwDMcy"
      },
      "execution_count": 24,
      "outputs": []
    },
    {
      "cell_type": "code",
      "source": [
        "# here modules are imported\n",
        "import numpy as np\n",
        "import pandas as pd\n",
        "import matplotlib.pyplot as plt\n",
        "import torch\n",
        "import math\n",
        "import tensorflow as tf\n",
        "import transformers\n",
        "import tensorflow_datasets as tfds\n",
        "from transformers import pipeline\n",
        "from transformers import AutoTokenizer, AutoModelForTokenClassification\n",
        "from transformers import TrainingArguments, Trainer\n",
        "from datasets import load_dataset\n",
        "from seqeval.metrics import f1_score, accuracy_score\n",
        "from torch.utils.data import DataLoader\n",
        "from torch.optim import AdamW\n",
        "from transformers import DataCollatorForTokenClassification\n"
      ],
      "metadata": {
        "id": "z2jwAAjrDQW5"
      },
      "execution_count": 25,
      "outputs": []
    },
    {
      "cell_type": "markdown",
      "source": [
        "# **Functions Used Here**"
      ],
      "metadata": {
        "id": "aCEcdV1lGsIR"
      }
    },
    {
      "cell_type": "code",
      "source": [
        "\n",
        "# Function to tokenize the inputs and align the NER tags with the subword tokens\n",
        "\n",
        "def tokenize_and_align_labels(examples):\n",
        "    \"\"\"\n",
        "\n",
        "    Args:\n",
        "      examples:\n",
        "\n",
        "    Returns:\n",
        "\n",
        "    \"\"\"\n",
        "    tokenized_inputs = tokenizer_ner(\n",
        "        examples['tokens'],\n",
        "        truncation=True,\n",
        "        is_split_into_words=True\n",
        "    )\n",
        "\n",
        "    labels = []\n",
        "    for i, label in enumerate(examples['ner_tags']):\n",
        "        word_ids = tokenized_inputs.word_ids(batch_index=i)\n",
        "        aligned_labels = []\n",
        "        previous_word_idx = None\n",
        "\n",
        "        for word_idx in word_ids:\n",
        "            if word_idx is None:  # Special tokens\n",
        "                aligned_labels.append(-100)\n",
        "            elif word_idx != previous_word_idx:  # First subword\n",
        "                aligned_labels.append(label[word_idx])\n",
        "            else:  # Subsequent subwords\n",
        "                aligned_labels.append(-100)\n",
        "            previous_word_idx = word_idx\n",
        "\n",
        "        labels.append(aligned_labels)\n",
        "\n",
        "    tokenized_inputs['labels'] = labels\n",
        "    return tokenized_inputs\n",
        "\n",
        "\n",
        "# Function to display the inferences from our model\n",
        "def inferences_ner(sentence, model_ner, tokenizer_ner, label_names):\n",
        "    \"\"\"\n",
        "\n",
        "    Args:\n",
        "      sentence:\n",
        "\n",
        "    \"\"\"\n",
        "    # Create a NER pipeline\n",
        "    ner_pipeline = pipeline('ner', model=model_ner, tokenizer=tokenizer_ner, aggregation_strategy=\"simple\")\n",
        "\n",
        "    # Create label mapping\n",
        "    label_map = {i: label.split('-')[-1] for i, label in enumerate(label_names)}\n",
        "\n",
        "    # Perform NER\n",
        "    ner_results = ner_pipeline(sentence)\n",
        "\n",
        "    # Print each entity with its label\n",
        "    for entity in ner_results:\n",
        "        label = label_map[int(entity['entity_group'].split('_')[-1])]\n",
        "        if label != \"O\":\n",
        "            print(f\"{entity['word']} -> {label}\")"
      ],
      "metadata": {
        "id": "y5hB3GeXGXwp"
      },
      "execution_count": 44,
      "outputs": []
    },
    {
      "cell_type": "markdown",
      "source": [
        "# **Loading Dataset**"
      ],
      "metadata": {
        "id": "6dkfCB5sGxqI"
      }
    },
    {
      "cell_type": "code",
      "source": [
        "\n",
        "# Load the CoNLL-2003 dataset\n",
        "conll_data = load_dataset('conll2003', trust_remote_code=True)\n",
        "\n",
        "# print the dataset\n",
        "print(conll_data)"
      ],
      "metadata": {
        "colab": {
          "base_uri": "https://localhost:8080/"
        },
        "id": "p57GDJdwG24C",
        "outputId": "ec309ab6-443e-4cb1-f1c3-5e10194b4002"
      },
      "execution_count": 45,
      "outputs": [
        {
          "output_type": "stream",
          "name": "stdout",
          "text": [
            "DatasetDict({\n",
            "    train: Dataset({\n",
            "        features: ['id', 'tokens', 'pos_tags', 'chunk_tags', 'ner_tags'],\n",
            "        num_rows: 14041\n",
            "    })\n",
            "    validation: Dataset({\n",
            "        features: ['id', 'tokens', 'pos_tags', 'chunk_tags', 'ner_tags'],\n",
            "        num_rows: 3250\n",
            "    })\n",
            "    test: Dataset({\n",
            "        features: ['id', 'tokens', 'pos_tags', 'chunk_tags', 'ner_tags'],\n",
            "        num_rows: 3453\n",
            "    })\n",
            "})\n"
          ]
        }
      ]
    },
    {
      "cell_type": "code",
      "source": [
        "# Display a sample from the training set to understand its structure\n",
        "sample = conll_data['train'][0]\n",
        "print(sample)"
      ],
      "metadata": {
        "colab": {
          "base_uri": "https://localhost:8080/"
        },
        "id": "QCR-Av29Ittl",
        "outputId": "8a53fd46-d19d-48b5-9c10-02aace4341e0"
      },
      "execution_count": 46,
      "outputs": [
        {
          "output_type": "stream",
          "name": "stdout",
          "text": [
            "{'id': '0', 'tokens': ['EU', 'rejects', 'German', 'call', 'to', 'boycott', 'British', 'lamb', '.'], 'pos_tags': [22, 42, 16, 21, 35, 37, 16, 21, 7], 'chunk_tags': [11, 21, 11, 12, 21, 22, 11, 12, 0], 'ner_tags': [3, 0, 7, 0, 0, 0, 7, 0, 0]}\n"
          ]
        }
      ]
    },
    {
      "cell_type": "code",
      "source": [
        "# Display the features of the dataset, which include tokens (words in the sentence) and ner_tags (corresponding NER labels).\n",
        "print(conll_data['train'].features)\n"
      ],
      "metadata": {
        "colab": {
          "base_uri": "https://localhost:8080/"
        },
        "id": "fAS95TfdI3oj",
        "outputId": "a4cb67df-e361-420c-a7eb-c46590310bb7"
      },
      "execution_count": 47,
      "outputs": [
        {
          "output_type": "stream",
          "name": "stdout",
          "text": [
            "{'id': Value(dtype='string', id=None), 'tokens': Sequence(feature=Value(dtype='string', id=None), length=-1, id=None), 'pos_tags': Sequence(feature=ClassLabel(names=['\"', \"''\", '#', '$', '(', ')', ',', '.', ':', '``', 'CC', 'CD', 'DT', 'EX', 'FW', 'IN', 'JJ', 'JJR', 'JJS', 'LS', 'MD', 'NN', 'NNP', 'NNPS', 'NNS', 'NN|SYM', 'PDT', 'POS', 'PRP', 'PRP$', 'RB', 'RBR', 'RBS', 'RP', 'SYM', 'TO', 'UH', 'VB', 'VBD', 'VBG', 'VBN', 'VBP', 'VBZ', 'WDT', 'WP', 'WP$', 'WRB'], id=None), length=-1, id=None), 'chunk_tags': Sequence(feature=ClassLabel(names=['O', 'B-ADJP', 'I-ADJP', 'B-ADVP', 'I-ADVP', 'B-CONJP', 'I-CONJP', 'B-INTJ', 'I-INTJ', 'B-LST', 'I-LST', 'B-NP', 'I-NP', 'B-PP', 'I-PP', 'B-PRT', 'I-PRT', 'B-SBAR', 'I-SBAR', 'B-UCP', 'I-UCP', 'B-VP', 'I-VP'], id=None), length=-1, id=None), 'ner_tags': Sequence(feature=ClassLabel(names=['O', 'B-PER', 'I-PER', 'B-ORG', 'I-ORG', 'B-LOC', 'I-LOC', 'B-MISC', 'I-MISC'], id=None), length=-1, id=None)}\n"
          ]
        }
      ]
    },
    {
      "cell_type": "code",
      "source": [
        "# Extracting tokens and labels from the sample\n",
        "tokens = sample['tokens']\n",
        "ner_tags = sample['ner_tags']\n",
        "label_names = conll_data['train'].features['ner_tags'].feature.names\n",
        "\n",
        "# Display the tokens and corresponding labels\n",
        "print(f\"Tokens: {tokens}\")\n",
        "print(f\"NER Tags: {[label_names[tag] for tag in ner_tags]}\")"
      ],
      "metadata": {
        "colab": {
          "base_uri": "https://localhost:8080/"
        },
        "id": "iFt9dnDDJDOn",
        "outputId": "36d2cadc-923d-4daf-a36b-8b50a87c15bb"
      },
      "execution_count": 48,
      "outputs": [
        {
          "output_type": "stream",
          "name": "stdout",
          "text": [
            "Tokens: ['EU', 'rejects', 'German', 'call', 'to', 'boycott', 'British', 'lamb', '.']\n",
            "NER Tags: ['B-ORG', 'O', 'B-MISC', 'O', 'O', 'O', 'B-MISC', 'O', 'O']\n"
          ]
        }
      ]
    },
    {
      "cell_type": "markdown",
      "source": [
        "# **Preprocessing Data**"
      ],
      "metadata": {
        "id": "vY-L-iPSG4h7"
      }
    },
    {
      "cell_type": "code",
      "source": [
        "# Load the BERT tokenizer\n",
        "tokenizer_ner = AutoTokenizer.from_pretrained('bert-base-cased')\n"
      ],
      "metadata": {
        "id": "ZtbJvaV4HBZJ"
      },
      "execution_count": 49,
      "outputs": []
    },
    {
      "cell_type": "code",
      "source": [
        "# Display a tokenized example to understand the tokenization process\n",
        "example = conll_data['train'][0]\n",
        "print(f\"Original tokens: {example['tokens']}\")\n",
        "tokenized_example = tokenizer_ner(example['tokens'], truncation=True, is_split_into_words=True)\n",
        "print(f\"Tokenized tokens: {tokenized_example.tokens()}\")\n"
      ],
      "metadata": {
        "colab": {
          "base_uri": "https://localhost:8080/"
        },
        "id": "_NwCwnLWKIG4",
        "outputId": "114fc935-36c0-46cc-d5db-1952f3b14693"
      },
      "execution_count": 50,
      "outputs": [
        {
          "output_type": "stream",
          "name": "stdout",
          "text": [
            "Original tokens: ['EU', 'rejects', 'German', 'call', 'to', 'boycott', 'British', 'lamb', '.']\n",
            "Tokenized tokens: ['[CLS]', 'EU', 'rejects', 'German', 'call', 'to', 'boycott', 'British', 'la', '##mb', '.', '[SEP]']\n"
          ]
        }
      ]
    },
    {
      "cell_type": "code",
      "source": [
        "# Applying the tokenization and label alignment function to the dataset\n",
        "tokenized_datasets = conll_data.map(tokenize_and_align_labels, batched=True)"
      ],
      "metadata": {
        "id": "hrZ29CHyLEWP"
      },
      "execution_count": 51,
      "outputs": []
    },
    {
      "cell_type": "code",
      "source": [
        "\n",
        "# Create a data collator that handles padding for both inputs and labels\n",
        "data_collator = DataCollatorForTokenClassification(tokenizer_ner)\n",
        "\n",
        "# Check the processed dataset structure\n",
        "print(tokenized_datasets['train'][0])\n"
      ],
      "metadata": {
        "colab": {
          "base_uri": "https://localhost:8080/"
        },
        "id": "q0Ub3sPHM41f",
        "outputId": "216fe3b3-bea5-4773-f4df-63e57b7b8e70"
      },
      "execution_count": 52,
      "outputs": [
        {
          "output_type": "stream",
          "name": "stdout",
          "text": [
            "{'id': '0', 'tokens': ['EU', 'rejects', 'German', 'call', 'to', 'boycott', 'British', 'lamb', '.'], 'pos_tags': [22, 42, 16, 21, 35, 37, 16, 21, 7], 'chunk_tags': [11, 21, 11, 12, 21, 22, 11, 12, 0], 'ner_tags': [3, 0, 7, 0, 0, 0, 7, 0, 0], 'input_ids': [101, 7270, 22961, 1528, 1840, 1106, 21423, 1418, 2495, 12913, 119, 102], 'token_type_ids': [0, 0, 0, 0, 0, 0, 0, 0, 0, 0, 0, 0], 'attention_mask': [1, 1, 1, 1, 1, 1, 1, 1, 1, 1, 1, 1], 'labels': [-100, 3, 0, 7, 0, 0, 0, 7, 0, -100, 0, -100]}\n"
          ]
        }
      ]
    },
    {
      "cell_type": "markdown",
      "source": [
        "# **Train & Fine-tune Model**"
      ],
      "metadata": {
        "id": "yqbMQbkVHQHd"
      }
    },
    {
      "cell_type": "code",
      "source": [
        "# Now we fine-tune the BERT model for the NER task using Hugging Face’s Trainer API.\n",
        "\n",
        "# Load the BERT model for token classification\n",
        "model_ner = AutoModelForTokenClassification.from_pretrained('bert-base-cased', num_labels=len(label_names))\n",
        "\n",
        "# Define training arguments\n",
        "training_args = TrainingArguments(\n",
        "    output_dir='./results',\n",
        "    evaluation_strategy=\"epoch\",\n",
        "    learning_rate=2e-5,\n",
        "    weight_decay=0.01,\n",
        "    per_device_train_batch_size=128,\n",
        "    per_device_eval_batch_size=128,\n",
        "    num_train_epochs=3,\n",
        "    save_steps=10_000,\n",
        "    save_total_limit=2,\n",
        "    logging_dir='./logs',\n",
        "    logging_steps=10,  # Log every 10 steps\n",
        "    fp16=True,\n",
        ")"
      ],
      "metadata": {
        "colab": {
          "base_uri": "https://localhost:8080/"
        },
        "id": "KOvIEtGsHi_M",
        "outputId": "3b4e8c88-a24d-4505-a0e7-3dda6815ff99"
      },
      "execution_count": 53,
      "outputs": [
        {
          "output_type": "stream",
          "name": "stderr",
          "text": [
            "Some weights of BertForTokenClassification were not initialized from the model checkpoint at bert-base-cased and are newly initialized: ['classifier.bias', 'classifier.weight']\n",
            "You should probably TRAIN this model on a down-stream task to be able to use it for predictions and inference.\n",
            "/usr/local/lib/python3.10/dist-packages/transformers/training_args.py:1494: FutureWarning: `evaluation_strategy` is deprecated and will be removed in version 4.46 of 🤗 Transformers. Use `eval_strategy` instead\n",
            "  warnings.warn(\n"
          ]
        }
      ]
    },
    {
      "cell_type": "code",
      "source": [
        "\n",
        "# Initialize the Trainer\n",
        "trainer_ner = Trainer(\n",
        "    model=model_ner,\n",
        "    args=training_args,\n",
        "    train_dataset=tokenized_datasets['train'],\n",
        "    eval_dataset=tokenized_datasets['validation'],\n",
        "    tokenizer=tokenizer_ner,\n",
        "    data_collator=data_collator,\n",
        ")\n",
        "\n"
      ],
      "metadata": {
        "id": "Vi1gs2rgAjc4"
      },
      "execution_count": 54,
      "outputs": []
    },
    {
      "cell_type": "code",
      "source": [
        "# Start training\n",
        "trainer_ner.train()"
      ],
      "metadata": {
        "id": "kNhG6DBUAviJ",
        "colab": {
          "base_uri": "https://localhost:8080/",
          "height": 205
        },
        "outputId": "cf152c2b-c530-49df-999e-fed7c4056708"
      },
      "execution_count": 55,
      "outputs": [
        {
          "output_type": "display_data",
          "data": {
            "text/plain": [
              "<IPython.core.display.HTML object>"
            ],
            "text/html": [
              "\n",
              "    <div>\n",
              "      \n",
              "      <progress value='330' max='330' style='width:300px; height:20px; vertical-align: middle;'></progress>\n",
              "      [330/330 00:29, Epoch 3/3]\n",
              "    </div>\n",
              "    <table border=\"1\" class=\"dataframe\">\n",
              "  <thead>\n",
              " <tr style=\"text-align: left;\">\n",
              "      <th>Epoch</th>\n",
              "      <th>Training Loss</th>\n",
              "      <th>Validation Loss</th>\n",
              "    </tr>\n",
              "  </thead>\n",
              "  <tbody>\n",
              "    <tr>\n",
              "      <td>1</td>\n",
              "      <td>0.079800</td>\n",
              "      <td>0.069064</td>\n",
              "    </tr>\n",
              "    <tr>\n",
              "      <td>2</td>\n",
              "      <td>0.043300</td>\n",
              "      <td>0.046130</td>\n",
              "    </tr>\n",
              "    <tr>\n",
              "      <td>3</td>\n",
              "      <td>0.033200</td>\n",
              "      <td>0.043740</td>\n",
              "    </tr>\n",
              "  </tbody>\n",
              "</table><p>"
            ]
          },
          "metadata": {}
        },
        {
          "output_type": "execute_result",
          "data": {
            "text/plain": [
              "TrainOutput(global_step=330, training_loss=0.16779190934065616, metrics={'train_runtime': 29.5143, 'train_samples_per_second': 1427.204, 'train_steps_per_second': 11.181, 'total_flos': 1385865353907198.0, 'train_loss': 0.16779190934065616, 'epoch': 3.0})"
            ]
          },
          "metadata": {},
          "execution_count": 55
        }
      ]
    },
    {
      "cell_type": "markdown",
      "source": [
        "# **Evaluate**"
      ],
      "metadata": {
        "id": "oDDxpdDIHkmD"
      }
    },
    {
      "cell_type": "code",
      "source": [
        "# Evaluate the model\n",
        "metrics = trainer_ner.evaluate()\n",
        "print(metrics)"
      ],
      "metadata": {
        "id": "RvCdSMnQHnvD",
        "colab": {
          "base_uri": "https://localhost:8080/",
          "height": 55
        },
        "outputId": "a64053ff-dc18-4eab-98eb-698ad6e3f9c5"
      },
      "execution_count": 56,
      "outputs": [
        {
          "output_type": "display_data",
          "data": {
            "text/plain": [
              "<IPython.core.display.HTML object>"
            ],
            "text/html": [
              "\n",
              "    <div>\n",
              "      \n",
              "      <progress value='26' max='26' style='width:300px; height:20px; vertical-align: middle;'></progress>\n",
              "      [26/26 00:00]\n",
              "    </div>\n",
              "    "
            ]
          },
          "metadata": {}
        },
        {
          "output_type": "stream",
          "name": "stdout",
          "text": [
            "{'eval_loss': 0.04373982921242714, 'eval_runtime': 0.803, 'eval_samples_per_second': 4047.275, 'eval_steps_per_second': 32.378, 'epoch': 3.0}\n"
          ]
        }
      ]
    },
    {
      "cell_type": "code",
      "source": [
        "# Extract loss values from the training logs\n",
        "training_logs = trainer_ner.state.log_history\n",
        "\n",
        "train_losses = [log[\"loss\"] for log in training_logs if \"loss\" in log]\n",
        "val_losses = [log[\"eval_loss\"] for log in training_logs if \"eval_loss\" in log]\n",
        "\n",
        "# Plot training and validation loss\n",
        "plt.figure(figsize=(10, 6))\n",
        "plt.plot(train_losses, 'b', label='Training Loss')\n",
        "plt.plot(val_losses, 'r', label='Validation Loss')\n",
        "plt.title('Training and Validation Loss')\n",
        "plt.xlabel('Steps')\n",
        "plt.ylabel('Loss')\n",
        "plt.legend()\n",
        "plt.show()"
      ],
      "metadata": {
        "colab": {
          "base_uri": "https://localhost:8080/",
          "height": 564
        },
        "id": "xQuRYZIiYwrZ",
        "outputId": "678f52a5-2ea6-4ef8-f7ef-7fae54ab044e"
      },
      "execution_count": 57,
      "outputs": [
        {
          "output_type": "display_data",
          "data": {
            "text/plain": [
              "<Figure size 1000x600 with 1 Axes>"
            ],
            "image/png": "[encoded data removed]"
          },
          "metadata": {}
        }
      ]
    },
    {
      "cell_type": "markdown",
      "source": [
        "# **Inference**"
      ],
      "metadata": {
        "id": "4eifRQYMbYZW"
      }
    },
    {
      "cell_type": "code",
      "source": [
        "# Inferences\n",
        "print(\"Sentence :- EU rejects German call to boycott British lamb.\\nOutput :-\")\n",
        "inferences_ner(\"EU rejects German call to boycott British lamb.\", model_ner, tokenizer_ner, label_names)\n",
        "print(\"Sentence :- Iraq's Saddam meets Russia's Zhiro.\\nOutput :-\")\n",
        "inferences_ner(\"Iraq's Saddam meets Russia's Zhiro.\", model_ner, tokenizer_ner, label_names)\n",
        "print(\"Sentence :- Robin is winding up his term as ambassador\\nOutput :-\")\n",
        "inferences_ner(\"Robin is winding up his term as ambassador\", model_ner, tokenizer_ner, label_names)\n",
        "print(\"Sentence :- Jay is from India\\nOutput :-\")\n",
        "inferences_ner(\"Jay is from India\", model_ner, tokenizer_ner, label_names)\n"
      ],
      "metadata": {
        "colab": {
          "base_uri": "https://localhost:8080/"
        },
        "id": "UfoTVkokmB0D",
        "outputId": "3d0c62bb-db24-431a-f22d-2486e59cd9af"
      },
      "execution_count": 75,
      "outputs": [
        {
          "output_type": "stream",
          "name": "stderr",
          "text": [
            "Hardware accelerator e.g. GPU is available in the environment, but no `device` argument is passed to the `Pipeline` object. Model will be on CPU.\n",
            "Hardware accelerator e.g. GPU is available in the environment, but no `device` argument is passed to the `Pipeline` object. Model will be on CPU.\n",
            "Hardware accelerator e.g. GPU is available in the environment, but no `device` argument is passed to the `Pipeline` object. Model will be on CPU.\n",
            "Hardware accelerator e.g. GPU is available in the environment, but no `device` argument is passed to the `Pipeline` object. Model will be on CPU.\n"
          ]
        },
        {
          "output_type": "stream",
          "name": "stdout",
          "text": [
            "Sentence :- EU rejects German call to boycott British lamb.\n",
            "Output :-\n",
            "EU -> ORG\n",
            "German -> MISC\n",
            "British -> MISC\n",
            "Sentence :- Iraq's Saddam meets Russia's Zhiro.\n",
            "Output :-\n",
            "Iraq -> LOC\n",
            "Saddam -> PER\n",
            "Russia -> LOC\n",
            "Zhiro -> PER\n",
            "Sentence :- Robin is winding up his term as ambassador\n",
            "Output :-\n",
            "Robin -> PER\n",
            "Sentence :- Jay is from India\n",
            "Output :-\n",
            "Jay -> PER\n",
            "India -> LOC\n"
          ]
        }
      ]
    },
    {
      "cell_type": "code",
      "source": [],
      "metadata": {
        "id": "s8Oc8wCj3c6J"
      },
      "execution_count": null,
      "outputs": []
    }
  ]
}